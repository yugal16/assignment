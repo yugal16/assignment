{
 "cells": [
  {
   "cell_type": "code",
   "execution_count": 3,
   "id": "2476867f-6c15-4d8d-9b7d-f4054a24b443",
   "metadata": {},
   "outputs": [
    {
     "name": "stdin",
     "output_type": "stream",
     "text": [
      "please enter your marks 79\n"
     ]
    },
    {
     "name": "stdout",
     "output_type": "stream",
     "text": [
      "Grade_C\n"
     ]
    }
   ],
   "source": [
    "marks=int(input('please enter your marks'))\n",
    "if marks >= 90:\n",
    "    print('Grade_A')\n",
    "elif marks  >= 80 and marks <=90:\n",
    "    print('Grade_B')\n",
    "elif marks >= 60 and marks <= 80:\n",
    "    print('Grade_C')\n",
    "elif marks < 60:\n",
    "    print('Grade_D')"
   ]
  },
  {
   "cell_type": "code",
   "execution_count": 6,
   "id": "f2206cdf-785b-4541-bfb2-e34fcd1272b0",
   "metadata": {},
   "outputs": [
    {
     "name": "stdin",
     "output_type": "stream",
     "text": [
      "enter_cost 55000\n"
     ]
    },
    {
     "name": "stdout",
     "output_type": "stream",
     "text": [
      "tax rate is 10%\n"
     ]
    }
   ],
   "source": [
    "cost=int(input('enter_cost'))\n",
    "if cost > 100000:\n",
    "    print('tax rate is 15%')\n",
    "elif cost > 50000 and cost <= 100000:\n",
    "    print('tax rate is 10%')\n",
    "elif cost <= 50000:\n",
    "    print('tax rate is 5%')\n",
    "\n",
    "    "
   ]
  },
  {
   "cell_type": "code",
   "execution_count": 7,
   "id": "614c4387-6a2a-4659-a8bf-42a4caf6b527",
   "metadata": {},
   "outputs": [
    {
     "name": "stdin",
     "output_type": "stream",
     "text": [
      "enter your city Delhi\n"
     ]
    },
    {
     "name": "stdout",
     "output_type": "stream",
     "text": [
      "red_fort\n"
     ]
    }
   ],
   "source": [
    "city=input('enter your city')\n",
    "if city == 'Delhi':\n",
    "    print('red_fort')\n",
    "elif city == 'Agra':\n",
    "    print('Taj Mahal')\n",
    "elif city == 'Jaipur':\n",
    "    print('Jal Mahal')\n"
   ]
  },
  {
   "cell_type": "code",
   "execution_count": null,
   "id": "cebd15b9-e01f-4afe-97e2-7a5f99494770",
   "metadata": {},
   "outputs": [],
   "source": []
  }
 ],
 "metadata": {
  "kernelspec": {
   "display_name": "Python 3 (ipykernel)",
   "language": "python",
   "name": "python3"
  },
  "language_info": {
   "codemirror_mode": {
    "name": "ipython",
    "version": 3
   },
   "file_extension": ".py",
   "mimetype": "text/x-python",
   "name": "python",
   "nbconvert_exporter": "python",
   "pygments_lexer": "ipython3",
   "version": "3.10.8"
  }
 },
 "nbformat": 4,
 "nbformat_minor": 5
}
